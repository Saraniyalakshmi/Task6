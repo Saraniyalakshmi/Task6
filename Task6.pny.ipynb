{
 "cells": [
  {
   "cell_type": "code",
   "execution_count": 25,
   "metadata": {},
   "outputs": [
    {
     "name": "stdout",
     "output_type": "stream",
     "text": [
      "Full List: [10, 501, 22, 37, 100, 999, 87, 351]\n",
      "List of odd numbers: [501, 37, 999, 87, 351]\n",
      "List of even numbers: [10, 22, 100]\n"
     ]
    }
   ],
   "source": [
    "#1.Odd and EvenList\n",
    "List=[10,501,22,37,100,999,87,351]\n",
    "print(\"Full List:\",List)\n",
    "even_list=[]\n",
    "odd_list=[]\n",
    "for elements in List:\n",
    "    if elements%2==0:\n",
    "        even_list.append(elements)\n",
    "    else:\n",
    "        odd_list.append(elements)\n",
    "print(\"List of odd numbers:\",odd_list)\n",
    "print(\"List of even numbers:\",even_list)\n",
    "    "
   ]
  },
  {
   "cell_type": "code",
   "execution_count": 125,
   "metadata": {},
   "outputs": [
    {
     "name": "stdout",
     "output_type": "stream",
     "text": [
      "Prime number: [37]\n"
     ]
    }
   ],
   "source": [
    "#2.Prime numbers\n",
    "List=[10,501,22,37,100,999,87,351]\n",
    "prime_list=[]\n",
    "for i in List:\n",
    "  c=0\n",
    "  for j in range(1,i):\n",
    "       if i %j==0:\n",
    "        c=c+1\n",
    "       \n",
    "  if c==1:\n",
    "     prime_list.append(i)\n",
    "print(\"Prime number:\",prime_list)\n",
    "      \n",
    "    "
   ]
  },
  {
   "cell_type": "code",
   "execution_count": 33,
   "metadata": {},
   "outputs": [
    {
     "name": "stdout",
     "output_type": "stream",
     "text": [
      "Happy numbers in the list: [1, 13]\n"
     ]
    }
   ],
   "source": [
    "#3.Happy numbers\n",
    "\n",
    "numbers_list = [22,1,13,22,11]\n",
    "def is_happy(n):\n",
    "    new_set = set()\n",
    "    while n != 1 and n not in new_set:\n",
    "        \n",
    "        new_set.add(n)\n",
    "\n",
    "        n = sum(int(digit)**2 for digit in str(n))\n",
    "        \n",
    "    return n == 1\n",
    "\n",
    "\n",
    "happy_numbers = []\n",
    "\n",
    "for num in numbers_list:\n",
    "    if is_happy(num):\n",
    "        happy_numbers.append(num)\n",
    "print(\"Happy numbers in the list:\", happy_numbers)\n",
    "\n"
   ]
  },
  {
   "cell_type": "code",
   "execution_count": 1,
   "metadata": {},
   "outputs": [
    {
     "name": "stdout",
     "output_type": "stream",
     "text": [
      "last value: 3\n",
      "first value: 1\n",
      "sum of first and last digit 4\n"
     ]
    }
   ],
   "source": [
    "#4.sum of first and last digits\n",
    "num=133\n",
    "\n",
    "last=num%10\n",
    "print(\"last value:\",last)\n",
    "while num !=0:\n",
    "  first=num%10\n",
    "  num=num//10\n",
    "  sum=last+first\n",
    "print(\"first value:\",first)\n",
    "print(\"sum of first and last digit\",sum)"
   ]
  },
  {
   "cell_type": "code",
   "execution_count": 28,
   "metadata": {},
   "outputs": [
    {
     "name": "stdout",
     "output_type": "stream",
     "text": [
      "total_mangoes 19\n",
      "mangoes_per_student 3\n",
      "remaining_mangoes 4\n",
      "Mangoes distribution: [4, 4, 4, 4, 3]\n"
     ]
    }
   ],
   "source": [
    "#5.Distrbution\n",
    "# Example usage\n",
    "bags = [5, 5, 4, 5]\n",
    "num_students = 5\n",
    "def distribute_mangoes_evenly(num_students, bags):\n",
    "    total_mangoes = sum(bags)\n",
    "    print(\"total_mangoes\",total_mangoes)\n",
    "    mangoes_per_student = total_mangoes // num_students\n",
    "    print(\"mangoes_per_student\",mangoes_per_student)\n",
    "    remaining_mangoes = total_mangoes % num_students\n",
    "    print(\"remaining_mangoes\",remaining_mangoes)\n",
    "    \n",
    "    distribution = [mangoes_per_student] * num_students\n",
    "    \n",
    "    # Distribute remaining mangoes among students\n",
    "    for i in range(remaining_mangoes):\n",
    "        distribution[i] += 1\n",
    "    return distribution\n",
    "\n",
    "distribution = distribute_mangoes_evenly(num_students, bags)\n",
    "print(\"Mangoes distribution:\", distribution)\n"
   ]
  },
  {
   "cell_type": "code",
   "execution_count": 18,
   "metadata": {},
   "outputs": [
    {
     "name": "stdout",
     "output_type": "stream",
     "text": [
      "Duplicates: {5}\n"
     ]
    }
   ],
   "source": [
    "#6.duplicates in three lists in Python\n",
    "list1 = [1, 2, 3, 4, 5]\n",
    "list2 = [4, 5, 6, 7, 8]\n",
    "list3 = [5, 6, 7, 8, 9]\n",
    "\n",
    "# Convert lists to sets\n",
    "set1 = set(list1)\n",
    "set2 = set(list2)\n",
    "set3 = set(list3)\n",
    "\n",
    "# Find duplicates by taking intersections of sets\n",
    "duplicates = set1.intersection(set2, set3)\n",
    "\n",
    "print(\"Duplicates:\", duplicates)"
   ]
  },
  {
   "cell_type": "code",
   "execution_count": 45,
   "metadata": {},
   "outputs": [
    {
     "name": "stdout",
     "output_type": "stream",
     "text": [
      "First non-repeating element: 333\n"
     ]
    }
   ],
   "source": [
    "#7. first non-repeating element in a list of integers\n",
    "def first_non_repeating_element(nums):\n",
    "    count = {}\n",
    "    \n",
    "    # Count occurrences of each element in the list\n",
    "    for num in nums:\n",
    "        count[num] = count.get(num, 0) + 1\n",
    "    \n",
    "    # Find the first non-repeating element\n",
    "    for num in nums:\n",
    "        if count[num] == 1:\n",
    "            return num\n",
    "    \n",
    "    # If no non-repeating element found\n",
    "    return None\n",
    "\n",
    "\n",
    "nums = [1, 2, 333, 2, 1, 4, 5, 4, 6]\n",
    "result = first_non_repeating_element(nums)\n",
    "if result is not None:\n",
    "    print(\"First non-repeating element:\", result)\n",
    "else:\n",
    "    print(\"No non-repeating element found.\")\n"
   ]
  },
  {
   "cell_type": "code",
   "execution_count": 28,
   "metadata": {},
   "outputs": [
    {
     "name": "stdout",
     "output_type": "stream",
     "text": [
      "Minimum element: 0\n"
     ]
    }
   ],
   "source": [
    "#8.minimum element in a rotated sorted list\n",
    "nums = [4, 5, 6, 7, 0, 1, 2]\n",
    "def find_minimum(nums):\n",
    "    return min(nums)\n",
    "print(\"Minimum element:\", find_minimum(nums))"
   ]
  },
  {
   "cell_type": "code",
   "execution_count": 29,
   "metadata": {},
   "outputs": [
    {
     "name": "stdout",
     "output_type": "stream",
     "text": [
      "Triplets with sum 59: [(20, 30, 9)]\n"
     ]
    }
   ],
   "source": [
    "#9.find triplets\n",
    "def find_triplets(nums, target):\n",
    "    triplets = []\n",
    "    for i in range(len(nums)):\n",
    "        for j in range(i+1, len(nums)):\n",
    "            for k in range(j+1, len(nums)):\n",
    "                if nums[i] + nums[j] + nums[k] == target:\n",
    "                    triplets.append((nums[i], nums[j], nums[k]))\n",
    "    return triplets\n",
    "\n",
    "# Example usage\n",
    "nums = [10, 20, 30, 9]\n",
    "target = 59\n",
    "triplets = find_triplets(nums, target)\n",
    "print(\"Triplets with sum 59:\", triplets)"
   ]
  },
  {
   "cell_type": "code",
   "execution_count": 46,
   "metadata": {},
   "outputs": [
    {
     "name": "stdout",
     "output_type": "stream",
     "text": [
      "There is a sublist with sum 0.\n"
     ]
    }
   ],
   "source": [
    "#10.sublist_with_sum_zero\n",
    "def sublist_with_sum_zero(nums):\n",
    "    for i in range(len(nums)):\n",
    "        total = 0\n",
    "        for j in range(i, len(nums)):\n",
    "            total += nums[j]\n",
    "            if total == 0:\n",
    "                return True\n",
    "    return False\n",
    "\n",
    "# Example usage\n",
    "nums = [4, 2, -3, 1, 6]\n",
    "if sublist_with_sum_zero(nums):\n",
    "    print(\"There is a sublist with sum 0.\")\n",
    "else:\n",
    "    print(\"There is no sublist with sum 0.\")"
   ]
  }
 ],
 "metadata": {
  "kernelspec": {
   "display_name": "Python 3",
   "language": "python",
   "name": "python3"
  },
  "language_info": {
   "codemirror_mode": {
    "name": "ipython",
    "version": 3
   },
   "file_extension": ".py",
   "mimetype": "text/x-python",
   "name": "python",
   "nbconvert_exporter": "python",
   "pygments_lexer": "ipython3",
   "version": "3.12.2"
  }
 },
 "nbformat": 4,
 "nbformat_minor": 2
}
